{
 "cells": [
  {
   "cell_type": "code",
   "execution_count": 5,
   "metadata": {},
   "outputs": [
    {
     "name": "stdout",
     "output_type": "stream",
     "text": [
      "Looking in indexes: https://pypi.org/simple, https://pypi.ngc.nvidia.com\n",
      "Requirement already satisfied: pandas in d:\\work\\intern\\gemicats\\3\\generate_dataset_whisper\\venv\\lib\\site-packages (2.2.3)\n",
      "Requirement already satisfied: datasets in d:\\work\\intern\\gemicats\\3\\generate_dataset_whisper\\venv\\lib\\site-packages (3.1.0)\n",
      "Requirement already satisfied: soundfile in d:\\work\\intern\\gemicats\\3\\generate_dataset_whisper\\venv\\lib\\site-packages (0.12.1)\n",
      "Requirement already satisfied: numpy>=1.22.4 in d:\\work\\intern\\gemicats\\3\\generate_dataset_whisper\\venv\\lib\\site-packages (from pandas) (2.0.2)\n",
      "Requirement already satisfied: python-dateutil>=2.8.2 in d:\\work\\intern\\gemicats\\3\\generate_dataset_whisper\\venv\\lib\\site-packages (from pandas) (2.9.0.post0)\n",
      "Requirement already satisfied: pytz>=2020.1 in d:\\work\\intern\\gemicats\\3\\generate_dataset_whisper\\venv\\lib\\site-packages (from pandas) (2024.2)\n",
      "Requirement already satisfied: tzdata>=2022.7 in d:\\work\\intern\\gemicats\\3\\generate_dataset_whisper\\venv\\lib\\site-packages (from pandas) (2024.2)\n",
      "Requirement already satisfied: filelock in d:\\work\\intern\\gemicats\\3\\generate_dataset_whisper\\venv\\lib\\site-packages (from datasets) (3.16.1)\n",
      "Requirement already satisfied: pyarrow>=15.0.0 in d:\\work\\intern\\gemicats\\3\\generate_dataset_whisper\\venv\\lib\\site-packages (from datasets) (18.1.0)\n",
      "Requirement already satisfied: dill<0.3.9,>=0.3.0 in d:\\work\\intern\\gemicats\\3\\generate_dataset_whisper\\venv\\lib\\site-packages (from datasets) (0.3.8)\n",
      "Requirement already satisfied: requests>=2.32.2 in d:\\work\\intern\\gemicats\\3\\generate_dataset_whisper\\venv\\lib\\site-packages (from datasets) (2.32.3)\n",
      "Requirement already satisfied: tqdm>=4.66.3 in d:\\work\\intern\\gemicats\\3\\generate_dataset_whisper\\venv\\lib\\site-packages (from datasets) (4.67.1)\n",
      "Requirement already satisfied: xxhash in d:\\work\\intern\\gemicats\\3\\generate_dataset_whisper\\venv\\lib\\site-packages (from datasets) (3.5.0)\n",
      "Requirement already satisfied: multiprocess<0.70.17 in d:\\work\\intern\\gemicats\\3\\generate_dataset_whisper\\venv\\lib\\site-packages (from datasets) (0.70.16)\n",
      "Requirement already satisfied: fsspec<=2024.9.0,>=2023.1.0 in d:\\work\\intern\\gemicats\\3\\generate_dataset_whisper\\venv\\lib\\site-packages (from fsspec[http]<=2024.9.0,>=2023.1.0->datasets) (2024.9.0)\n",
      "Requirement already satisfied: aiohttp in d:\\work\\intern\\gemicats\\3\\generate_dataset_whisper\\venv\\lib\\site-packages (from datasets) (3.11.8)\n",
      "Requirement already satisfied: huggingface-hub>=0.23.0 in d:\\work\\intern\\gemicats\\3\\generate_dataset_whisper\\venv\\lib\\site-packages (from datasets) (0.26.3)\n",
      "Requirement already satisfied: packaging in d:\\work\\intern\\gemicats\\3\\generate_dataset_whisper\\venv\\lib\\site-packages (from datasets) (24.2)\n",
      "Requirement already satisfied: pyyaml>=5.1 in d:\\work\\intern\\gemicats\\3\\generate_dataset_whisper\\venv\\lib\\site-packages (from datasets) (6.0.2)\n",
      "Requirement already satisfied: cffi>=1.0 in d:\\work\\intern\\gemicats\\3\\generate_dataset_whisper\\venv\\lib\\site-packages (from soundfile) (1.17.1)\n",
      "Requirement already satisfied: pycparser in d:\\work\\intern\\gemicats\\3\\generate_dataset_whisper\\venv\\lib\\site-packages (from cffi>=1.0->soundfile) (2.22)\n",
      "Requirement already satisfied: aiohappyeyeballs>=2.3.0 in d:\\work\\intern\\gemicats\\3\\generate_dataset_whisper\\venv\\lib\\site-packages (from aiohttp->datasets) (2.4.3)\n",
      "Requirement already satisfied: aiosignal>=1.1.2 in d:\\work\\intern\\gemicats\\3\\generate_dataset_whisper\\venv\\lib\\site-packages (from aiohttp->datasets) (1.3.1)\n",
      "Requirement already satisfied: async-timeout<6.0,>=4.0 in d:\\work\\intern\\gemicats\\3\\generate_dataset_whisper\\venv\\lib\\site-packages (from aiohttp->datasets) (5.0.1)\n",
      "Requirement already satisfied: attrs>=17.3.0 in d:\\work\\intern\\gemicats\\3\\generate_dataset_whisper\\venv\\lib\\site-packages (from aiohttp->datasets) (24.2.0)\n",
      "Requirement already satisfied: frozenlist>=1.1.1 in d:\\work\\intern\\gemicats\\3\\generate_dataset_whisper\\venv\\lib\\site-packages (from aiohttp->datasets) (1.5.0)\n",
      "Requirement already satisfied: multidict<7.0,>=4.5 in d:\\work\\intern\\gemicats\\3\\generate_dataset_whisper\\venv\\lib\\site-packages (from aiohttp->datasets) (6.1.0)\n",
      "Requirement already satisfied: propcache>=0.2.0 in d:\\work\\intern\\gemicats\\3\\generate_dataset_whisper\\venv\\lib\\site-packages (from aiohttp->datasets) (0.2.0)\n",
      "Requirement already satisfied: yarl<2.0,>=1.17.0 in d:\\work\\intern\\gemicats\\3\\generate_dataset_whisper\\venv\\lib\\site-packages (from aiohttp->datasets) (1.18.0)\n",
      "Requirement already satisfied: typing-extensions>=3.7.4.3 in d:\\work\\intern\\gemicats\\3\\generate_dataset_whisper\\venv\\lib\\site-packages (from huggingface-hub>=0.23.0->datasets) (4.12.2)\n",
      "Requirement already satisfied: six>=1.5 in d:\\work\\intern\\gemicats\\3\\generate_dataset_whisper\\venv\\lib\\site-packages (from python-dateutil>=2.8.2->pandas) (1.16.0)\n",
      "Requirement already satisfied: charset-normalizer<4,>=2 in d:\\work\\intern\\gemicats\\3\\generate_dataset_whisper\\venv\\lib\\site-packages (from requests>=2.32.2->datasets) (3.4.0)\n",
      "Requirement already satisfied: idna<4,>=2.5 in d:\\work\\intern\\gemicats\\3\\generate_dataset_whisper\\venv\\lib\\site-packages (from requests>=2.32.2->datasets) (3.10)\n",
      "Requirement already satisfied: urllib3<3,>=1.21.1 in d:\\work\\intern\\gemicats\\3\\generate_dataset_whisper\\venv\\lib\\site-packages (from requests>=2.32.2->datasets) (2.2.3)\n",
      "Requirement already satisfied: certifi>=2017.4.17 in d:\\work\\intern\\gemicats\\3\\generate_dataset_whisper\\venv\\lib\\site-packages (from requests>=2.32.2->datasets) (2024.8.30)\n",
      "Requirement already satisfied: colorama in d:\\work\\intern\\gemicats\\3\\generate_dataset_whisper\\venv\\lib\\site-packages (from tqdm>=4.66.3->datasets) (0.4.6)\n"
     ]
    }
   ],
   "source": [
    "!pip install pandas datasets soundfile"
   ]
  },
  {
   "cell_type": "code",
   "execution_count": 1,
   "metadata": {},
   "outputs": [
    {
     "name": "stderr",
     "output_type": "stream",
     "text": [
      "d:\\Work\\vs_code_doc\\repo\\Whisper_Dataset_generator\\venv\\lib\\site-packages\\tqdm\\auto.py:21: TqdmWarning: IProgress not found. Please update jupyter and ipywidgets. See https://ipywidgets.readthedocs.io/en/stable/user_install.html\n",
      "  from .autonotebook import tqdm as notebook_tqdm\n"
     ]
    },
    {
     "name": "stdout",
     "output_type": "stream",
     "text": [
      "                                   audio  \\\n",
      "0  dataset\\train_audio\\sample-005811.mp3   \n",
      "1  dataset\\train_audio\\sample-009916.mp3   \n",
      "2  dataset\\train_audio\\sample-011187.mp3   \n",
      "3  dataset\\train_audio\\sample-013150.mp3   \n",
      "4  dataset\\train_audio\\sample-013557.mp3   \n",
      "\n",
      "                                                text  start   end  \n",
      "0       in alchemy it's called the soul of the world    0.0  2.00  \n",
      "1  from the railway station in the distance came ...    0.0  6.24  \n",
      "2  it was starlight and i explained the signs of ...    0.0  6.00  \n",
      "3     it's what you have always wanted to accomplish    0.0  3.00  \n",
      "4  i just don't trust anyone who says they've nev...    0.0  7.00  \n"
     ]
    }
   ],
   "source": [
    "import os\n",
    "import pandas as pd\n",
    "from datasets import Dataset, Audio\n",
    "\n",
    "# Paths to your data\n",
    "dataset_path = \"dataset\"\n",
    "train_audio_path = os.path.join(dataset_path, \"train_audio\")\n",
    "test_audio_path = os.path.join(dataset_path, \"test_audio\")\n",
    "train_csv_path = os.path.join(dataset_path, \"train.csv\")\n",
    "test_csv_path = os.path.join(dataset_path, \"test.csv\")\n",
    "\n",
    "# Load CSV files\n",
    "train_df = pd.read_csv(train_csv_path)\n",
    "test_df = pd.read_csv(test_csv_path)\n",
    "\n",
    "# Add full paths to audio files in the dataframes\n",
    "train_df['audio'] = train_df['audio'].apply(lambda x: os.path.join(train_audio_path, x))\n",
    "test_df['audio'] = test_df['audio'].apply(lambda x: os.path.join(test_audio_path, x))\n",
    "\n",
    "# Combine datasets (optional: skip if uploading splits separately)\n",
    "full_df = pd.concat([train_df, test_df], ignore_index=True)\n",
    "\n",
    "# Verify the dataset structure\n",
    "print(full_df.head())\n"
   ]
  },
  {
   "cell_type": "code",
   "execution_count": 4,
   "metadata": {},
   "outputs": [
    {
     "name": "stderr",
     "output_type": "stream",
     "text": [
      "Map: 100%|██████████| 80/80 [00:00<00:00, 4111.46 examples/s]?it/s]\n",
      "Creating parquet from Arrow format: 100%|██████████| 1/1 [00:00<00:00, 70.38ba/s]\n",
      "Uploading the dataset shards: 100%|██████████| 1/1 [00:03<00:00,  3.74s/it]\n",
      "Map: 100%|██████████| 20/20 [00:00<00:00, 2276.36 examples/s]?it/s]\n",
      "Creating parquet from Arrow format: 100%|██████████| 1/1 [00:00<00:00, 497.49ba/s]\n",
      "Uploading the dataset shards: 100%|██████████| 1/1 [00:02<00:00,  2.29s/it]\n"
     ]
    },
    {
     "data": {
      "text/plain": [
       "CommitInfo(commit_url='https://huggingface.co/datasets/Tarakeshwaran/Whisper-train-data/commit/72eff7f255fc8c8a2e4c1e95606ff8fc5d843b93', commit_message='Upload dataset', commit_description='', oid='72eff7f255fc8c8a2e4c1e95606ff8fc5d843b93', pr_url=None, repo_url=RepoUrl('https://huggingface.co/datasets/Tarakeshwaran/Whisper-train-data', endpoint='https://huggingface.co', repo_type='dataset', repo_id='Tarakeshwaran/Whisper-train-data'), pr_revision=None, pr_num=None)"
      ]
     },
     "execution_count": 4,
     "metadata": {},
     "output_type": "execute_result"
    }
   ],
   "source": [
    "from huggingface_hub import HfApi\n",
    "from datasets import DatasetDict\n",
    "\n",
    "# Define the splits\n",
    "train_dataset = Dataset.from_pandas(train_df).cast_column(\"audio\", Audio(sampling_rate=16000))\n",
    "test_dataset = Dataset.from_pandas(test_df).cast_column(\"audio\", Audio(sampling_rate=16000))\n",
    "\n",
    "# Create a DatasetDict for multiple splits\n",
    "dataset_dict = DatasetDict({\"train\": train_dataset, \"test\": test_dataset})\n",
    "\n",
    "# Push the dataset to the Hugging Face Hub\n",
    "dataset_dict.push_to_hub(\"Tarakeshwaran/Whisper-Train-data\")"
   ]
  },
  {
   "cell_type": "code",
   "execution_count": 7,
   "metadata": {},
   "outputs": [
    {
     "data": {
      "text/plain": [
       "{'audio': {'path': 'dataset\\\\train_audio\\\\sample-005811.mp3',\n",
       "  'array': array([-3.10192730e-25,  8.27180613e-25, -4.65289095e-24, ...,\n",
       "         -1.07697597e-05,  2.15554501e-05, -2.88033916e-05]),\n",
       "  'sampling_rate': 16000},\n",
       " 'text': \"in alchemy it's called the soul of the world\",\n",
       " 'start': 0.0,\n",
       " 'end': 2.0}"
      ]
     },
     "execution_count": 7,
     "metadata": {},
     "output_type": "execute_result"
    }
   ],
   "source": [
    "dataset_dict[\"train\"][0]"
   ]
  },
  {
   "cell_type": "code",
   "execution_count": null,
   "metadata": {},
   "outputs": [],
   "source": []
  }
 ],
 "metadata": {
  "kernelspec": {
   "display_name": "venv",
   "language": "python",
   "name": "python3"
  },
  "language_info": {
   "codemirror_mode": {
    "name": "ipython",
    "version": 3
   },
   "file_extension": ".py",
   "mimetype": "text/x-python",
   "name": "python",
   "nbconvert_exporter": "python",
   "pygments_lexer": "ipython3",
   "version": "3.9.13"
  }
 },
 "nbformat": 4,
 "nbformat_minor": 2
}
