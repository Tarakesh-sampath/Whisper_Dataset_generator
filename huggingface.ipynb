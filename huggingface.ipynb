{
 "cells": [
  {
   "cell_type": "code",
   "execution_count": 5,
   "metadata": {},
   "outputs": [
    {
     "name": "stdout",
     "output_type": "stream",
     "text": [
      "Looking in indexes: https://pypi.org/simple, https://pypi.ngc.nvidia.com\n",
      "Requirement already satisfied: pandas in d:\\work\\intern\\gemicats\\3\\generate_dataset_whisper\\venv\\lib\\site-packages (2.2.3)\n",
      "Requirement already satisfied: datasets in d:\\work\\intern\\gemicats\\3\\generate_dataset_whisper\\venv\\lib\\site-packages (3.1.0)\n",
      "Requirement already satisfied: soundfile in d:\\work\\intern\\gemicats\\3\\generate_dataset_whisper\\venv\\lib\\site-packages (0.12.1)\n",
      "Requirement already satisfied: numpy>=1.22.4 in d:\\work\\intern\\gemicats\\3\\generate_dataset_whisper\\venv\\lib\\site-packages (from pandas) (2.0.2)\n",
      "Requirement already satisfied: python-dateutil>=2.8.2 in d:\\work\\intern\\gemicats\\3\\generate_dataset_whisper\\venv\\lib\\site-packages (from pandas) (2.9.0.post0)\n",
      "Requirement already satisfied: pytz>=2020.1 in d:\\work\\intern\\gemicats\\3\\generate_dataset_whisper\\venv\\lib\\site-packages (from pandas) (2024.2)\n",
      "Requirement already satisfied: tzdata>=2022.7 in d:\\work\\intern\\gemicats\\3\\generate_dataset_whisper\\venv\\lib\\site-packages (from pandas) (2024.2)\n",
      "Requirement already satisfied: filelock in d:\\work\\intern\\gemicats\\3\\generate_dataset_whisper\\venv\\lib\\site-packages (from datasets) (3.16.1)\n",
      "Requirement already satisfied: pyarrow>=15.0.0 in d:\\work\\intern\\gemicats\\3\\generate_dataset_whisper\\venv\\lib\\site-packages (from datasets) (18.1.0)\n",
      "Requirement already satisfied: dill<0.3.9,>=0.3.0 in d:\\work\\intern\\gemicats\\3\\generate_dataset_whisper\\venv\\lib\\site-packages (from datasets) (0.3.8)\n",
      "Requirement already satisfied: requests>=2.32.2 in d:\\work\\intern\\gemicats\\3\\generate_dataset_whisper\\venv\\lib\\site-packages (from datasets) (2.32.3)\n",
      "Requirement already satisfied: tqdm>=4.66.3 in d:\\work\\intern\\gemicats\\3\\generate_dataset_whisper\\venv\\lib\\site-packages (from datasets) (4.67.1)\n",
      "Requirement already satisfied: xxhash in d:\\work\\intern\\gemicats\\3\\generate_dataset_whisper\\venv\\lib\\site-packages (from datasets) (3.5.0)\n",
      "Requirement already satisfied: multiprocess<0.70.17 in d:\\work\\intern\\gemicats\\3\\generate_dataset_whisper\\venv\\lib\\site-packages (from datasets) (0.70.16)\n",
      "Requirement already satisfied: fsspec<=2024.9.0,>=2023.1.0 in d:\\work\\intern\\gemicats\\3\\generate_dataset_whisper\\venv\\lib\\site-packages (from fsspec[http]<=2024.9.0,>=2023.1.0->datasets) (2024.9.0)\n",
      "Requirement already satisfied: aiohttp in d:\\work\\intern\\gemicats\\3\\generate_dataset_whisper\\venv\\lib\\site-packages (from datasets) (3.11.8)\n",
      "Requirement already satisfied: huggingface-hub>=0.23.0 in d:\\work\\intern\\gemicats\\3\\generate_dataset_whisper\\venv\\lib\\site-packages (from datasets) (0.26.3)\n",
      "Requirement already satisfied: packaging in d:\\work\\intern\\gemicats\\3\\generate_dataset_whisper\\venv\\lib\\site-packages (from datasets) (24.2)\n",
      "Requirement already satisfied: pyyaml>=5.1 in d:\\work\\intern\\gemicats\\3\\generate_dataset_whisper\\venv\\lib\\site-packages (from datasets) (6.0.2)\n",
      "Requirement already satisfied: cffi>=1.0 in d:\\work\\intern\\gemicats\\3\\generate_dataset_whisper\\venv\\lib\\site-packages (from soundfile) (1.17.1)\n",
      "Requirement already satisfied: pycparser in d:\\work\\intern\\gemicats\\3\\generate_dataset_whisper\\venv\\lib\\site-packages (from cffi>=1.0->soundfile) (2.22)\n",
      "Requirement already satisfied: aiohappyeyeballs>=2.3.0 in d:\\work\\intern\\gemicats\\3\\generate_dataset_whisper\\venv\\lib\\site-packages (from aiohttp->datasets) (2.4.3)\n",
      "Requirement already satisfied: aiosignal>=1.1.2 in d:\\work\\intern\\gemicats\\3\\generate_dataset_whisper\\venv\\lib\\site-packages (from aiohttp->datasets) (1.3.1)\n",
      "Requirement already satisfied: async-timeout<6.0,>=4.0 in d:\\work\\intern\\gemicats\\3\\generate_dataset_whisper\\venv\\lib\\site-packages (from aiohttp->datasets) (5.0.1)\n",
      "Requirement already satisfied: attrs>=17.3.0 in d:\\work\\intern\\gemicats\\3\\generate_dataset_whisper\\venv\\lib\\site-packages (from aiohttp->datasets) (24.2.0)\n",
      "Requirement already satisfied: frozenlist>=1.1.1 in d:\\work\\intern\\gemicats\\3\\generate_dataset_whisper\\venv\\lib\\site-packages (from aiohttp->datasets) (1.5.0)\n",
      "Requirement already satisfied: multidict<7.0,>=4.5 in d:\\work\\intern\\gemicats\\3\\generate_dataset_whisper\\venv\\lib\\site-packages (from aiohttp->datasets) (6.1.0)\n",
      "Requirement already satisfied: propcache>=0.2.0 in d:\\work\\intern\\gemicats\\3\\generate_dataset_whisper\\venv\\lib\\site-packages (from aiohttp->datasets) (0.2.0)\n",
      "Requirement already satisfied: yarl<2.0,>=1.17.0 in d:\\work\\intern\\gemicats\\3\\generate_dataset_whisper\\venv\\lib\\site-packages (from aiohttp->datasets) (1.18.0)\n",
      "Requirement already satisfied: typing-extensions>=3.7.4.3 in d:\\work\\intern\\gemicats\\3\\generate_dataset_whisper\\venv\\lib\\site-packages (from huggingface-hub>=0.23.0->datasets) (4.12.2)\n",
      "Requirement already satisfied: six>=1.5 in d:\\work\\intern\\gemicats\\3\\generate_dataset_whisper\\venv\\lib\\site-packages (from python-dateutil>=2.8.2->pandas) (1.16.0)\n",
      "Requirement already satisfied: charset-normalizer<4,>=2 in d:\\work\\intern\\gemicats\\3\\generate_dataset_whisper\\venv\\lib\\site-packages (from requests>=2.32.2->datasets) (3.4.0)\n",
      "Requirement already satisfied: idna<4,>=2.5 in d:\\work\\intern\\gemicats\\3\\generate_dataset_whisper\\venv\\lib\\site-packages (from requests>=2.32.2->datasets) (3.10)\n",
      "Requirement already satisfied: urllib3<3,>=1.21.1 in d:\\work\\intern\\gemicats\\3\\generate_dataset_whisper\\venv\\lib\\site-packages (from requests>=2.32.2->datasets) (2.2.3)\n",
      "Requirement already satisfied: certifi>=2017.4.17 in d:\\work\\intern\\gemicats\\3\\generate_dataset_whisper\\venv\\lib\\site-packages (from requests>=2.32.2->datasets) (2024.8.30)\n",
      "Requirement already satisfied: colorama in d:\\work\\intern\\gemicats\\3\\generate_dataset_whisper\\venv\\lib\\site-packages (from tqdm>=4.66.3->datasets) (0.4.6)\n"
     ]
    }
   ],
   "source": [
    "!pip install pandas datasets soundfile"
   ]
  },
  {
   "cell_type": "code",
   "execution_count": 13,
   "metadata": {},
   "outputs": [
    {
     "name": "stdout",
     "output_type": "stream",
     "text": [
      "                                   audio  \\\n",
      "0  dataset\\train_audio\\sample-005811.mp3   \n",
      "1  dataset\\train_audio\\sample-009916.mp3   \n",
      "2  dataset\\train_audio\\sample-011187.mp3   \n",
      "3  dataset\\train_audio\\sample-013150.mp3   \n",
      "4  dataset\\train_audio\\sample-013557.mp3   \n",
      "\n",
      "                                                text  start   end  \n",
      "0       in alchemy it's called the soul of the world    0.0  2.00  \n",
      "1  from the railway station in the distance came ...    0.0  6.24  \n",
      "2  it was starlight and i explained the signs of ...    0.0  6.00  \n",
      "3     it's what you have always wanted to accomplish    0.0  3.00  \n",
      "4  i just don't trust anyone who says they've nev...    0.0  7.00  \n"
     ]
    }
   ],
   "source": [
    "import os\n",
    "import pandas as pd\n",
    "from datasets import Dataset, Audio\n",
    "\n",
    "# Paths to your data\n",
    "dataset_path = \"dataset\"\n",
    "train_audio_path = os.path.join(dataset_path, \"train_audio\")\n",
    "test_audio_path = os.path.join(dataset_path, \"test_audio\")\n",
    "train_csv_path = os.path.join(dataset_path, \"train.csv\")\n",
    "test_csv_path = os.path.join(dataset_path, \"test.csv\")\n",
    "\n",
    "# Load CSV files\n",
    "train_df = pd.read_csv(train_csv_path)\n",
    "test_df = pd.read_csv(test_csv_path)\n",
    "\n",
    "# Add full paths to audio files in the dataframes\n",
    "train_df['audio'] = train_df['audio'].apply(lambda x: os.path.join(train_audio_path, x))\n",
    "test_df['audio'] = test_df['audio'].apply(lambda x: os.path.join(test_audio_path, x))\n",
    "\n",
    "# Combine datasets (optional: skip if uploading splits separately)\n",
    "full_df = pd.concat([train_df, test_df], ignore_index=True)\n",
    "\n",
    "# Verify the dataset structure\n",
    "print(full_df.head())\n"
   ]
  },
  {
   "cell_type": "code",
   "execution_count": 14,
   "metadata": {},
   "outputs": [
    {
     "data": {
      "text/html": [
       "<div>\n",
       "<style scoped>\n",
       "    .dataframe tbody tr th:only-of-type {\n",
       "        vertical-align: middle;\n",
       "    }\n",
       "\n",
       "    .dataframe tbody tr th {\n",
       "        vertical-align: top;\n",
       "    }\n",
       "\n",
       "    .dataframe thead th {\n",
       "        text-align: right;\n",
       "    }\n",
       "</style>\n",
       "<table border=\"1\" class=\"dataframe\">\n",
       "  <thead>\n",
       "    <tr style=\"text-align: right;\">\n",
       "      <th></th>\n",
       "      <th>audio</th>\n",
       "      <th>text</th>\n",
       "      <th>start</th>\n",
       "      <th>end</th>\n",
       "    </tr>\n",
       "  </thead>\n",
       "  <tbody>\n",
       "    <tr>\n",
       "      <th>0</th>\n",
       "      <td>dataset\\train_audio\\sample-005811.mp3</td>\n",
       "      <td>in alchemy it's called the soul of the world</td>\n",
       "      <td>0.0</td>\n",
       "      <td>2.00</td>\n",
       "    </tr>\n",
       "    <tr>\n",
       "      <th>1</th>\n",
       "      <td>dataset\\train_audio\\sample-009916.mp3</td>\n",
       "      <td>from the railway station in the distance came ...</td>\n",
       "      <td>0.0</td>\n",
       "      <td>6.24</td>\n",
       "    </tr>\n",
       "    <tr>\n",
       "      <th>2</th>\n",
       "      <td>dataset\\train_audio\\sample-011187.mp3</td>\n",
       "      <td>it was starlight and i explained the signs of ...</td>\n",
       "      <td>0.0</td>\n",
       "      <td>6.00</td>\n",
       "    </tr>\n",
       "    <tr>\n",
       "      <th>3</th>\n",
       "      <td>dataset\\train_audio\\sample-013150.mp3</td>\n",
       "      <td>it's what you have always wanted to accomplish</td>\n",
       "      <td>0.0</td>\n",
       "      <td>3.00</td>\n",
       "    </tr>\n",
       "    <tr>\n",
       "      <th>4</th>\n",
       "      <td>dataset\\train_audio\\sample-013557.mp3</td>\n",
       "      <td>i just don't trust anyone who says they've nev...</td>\n",
       "      <td>0.0</td>\n",
       "      <td>7.00</td>\n",
       "    </tr>\n",
       "    <tr>\n",
       "      <th>...</th>\n",
       "      <td>...</td>\n",
       "      <td>...</td>\n",
       "      <td>...</td>\n",
       "      <td>...</td>\n",
       "    </tr>\n",
       "    <tr>\n",
       "      <th>95</th>\n",
       "      <td>dataset\\test_audio\\sample-002614.mp3</td>\n",
       "      <td>he rose and made his way back toward the palm ...</td>\n",
       "      <td>0.0</td>\n",
       "      <td>7.00</td>\n",
       "    </tr>\n",
       "    <tr>\n",
       "      <th>96</th>\n",
       "      <td>dataset\\test_audio\\sample-002945.mp3</td>\n",
       "      <td>an alchemist said the alchemist</td>\n",
       "      <td>0.0</td>\n",
       "      <td>4.00</td>\n",
       "    </tr>\n",
       "    <tr>\n",
       "      <th>97</th>\n",
       "      <td>dataset\\test_audio\\sample-003014.mp3</td>\n",
       "      <td>the englishman was disappointed</td>\n",
       "      <td>0.0</td>\n",
       "      <td>2.00</td>\n",
       "    </tr>\n",
       "    <tr>\n",
       "      <th>98</th>\n",
       "      <td>dataset\\test_audio\\sample-003335.mp3</td>\n",
       "      <td>what had been next to him five minutes ago was...</td>\n",
       "      <td>0.0</td>\n",
       "      <td>7.00</td>\n",
       "    </tr>\n",
       "    <tr>\n",
       "      <th>99</th>\n",
       "      <td>dataset\\test_audio\\sample-003340.mp3</td>\n",
       "      <td>he told her about the morning's meeting</td>\n",
       "      <td>0.0</td>\n",
       "      <td>4.00</td>\n",
       "    </tr>\n",
       "  </tbody>\n",
       "</table>\n",
       "<p>100 rows × 4 columns</p>\n",
       "</div>"
      ],
      "text/plain": [
       "                                    audio  \\\n",
       "0   dataset\\train_audio\\sample-005811.mp3   \n",
       "1   dataset\\train_audio\\sample-009916.mp3   \n",
       "2   dataset\\train_audio\\sample-011187.mp3   \n",
       "3   dataset\\train_audio\\sample-013150.mp3   \n",
       "4   dataset\\train_audio\\sample-013557.mp3   \n",
       "..                                    ...   \n",
       "95   dataset\\test_audio\\sample-002614.mp3   \n",
       "96   dataset\\test_audio\\sample-002945.mp3   \n",
       "97   dataset\\test_audio\\sample-003014.mp3   \n",
       "98   dataset\\test_audio\\sample-003335.mp3   \n",
       "99   dataset\\test_audio\\sample-003340.mp3   \n",
       "\n",
       "                                                 text  start   end  \n",
       "0        in alchemy it's called the soul of the world    0.0  2.00  \n",
       "1   from the railway station in the distance came ...    0.0  6.24  \n",
       "2   it was starlight and i explained the signs of ...    0.0  6.00  \n",
       "3      it's what you have always wanted to accomplish    0.0  3.00  \n",
       "4   i just don't trust anyone who says they've nev...    0.0  7.00  \n",
       "..                                                ...    ...   ...  \n",
       "95  he rose and made his way back toward the palm ...    0.0  7.00  \n",
       "96                    an alchemist said the alchemist    0.0  4.00  \n",
       "97                    the englishman was disappointed    0.0  2.00  \n",
       "98  what had been next to him five minutes ago was...    0.0  7.00  \n",
       "99            he told her about the morning's meeting    0.0  4.00  \n",
       "\n",
       "[100 rows x 4 columns]"
      ]
     },
     "execution_count": 14,
     "metadata": {},
     "output_type": "execute_result"
    }
   ],
   "source": [
    "full_df"
   ]
  },
  {
   "cell_type": "code",
   "execution_count": 15,
   "metadata": {},
   "outputs": [
    {
     "name": "stderr",
     "output_type": "stream",
     "text": [
      "Saving the dataset (1/1 shards): 100%|██████████| 100/100 [00:00<00:00, 4040.95 examples/s]"
     ]
    },
    {
     "name": "stderr",
     "output_type": "stream",
     "text": [
      "Saving the dataset (1/1 shards): 100%|██████████| 100/100 [00:00<00:00, 3883.04 examples/s]\n"
     ]
    }
   ],
   "source": [
    "# Convert pandas DataFrame to Hugging Face Dataset\n",
    "dataset = Dataset.from_pandas(full_df)\n",
    "\n",
    "# Cast the 'audio' column to the Audio feature type\n",
    "dataset = dataset.cast_column(\"audio\", Audio())\n",
    "\n",
    "# Save locally for verification\n",
    "dataset.save_to_disk(\"huggingface_dataset\")\n"
   ]
  },
  {
   "cell_type": "code",
   "execution_count": 16,
   "metadata": {},
   "outputs": [
    {
     "name": "stderr",
     "output_type": "stream",
     "text": [
      "Map: 100%|██████████| 80/80 [00:00<00:00, 4701.01 examples/s]?it/s]\n",
      "Creating parquet from Arrow format: 100%|██████████| 1/1 [00:00<00:00, 184.45ba/s]\n",
      "Uploading the dataset shards: 100%|██████████| 1/1 [00:04<00:00,  4.10s/it]\n",
      "Map: 100%|██████████| 20/20 [00:00<00:00, 1453.40 examples/s]?it/s]\n",
      "Creating parquet from Arrow format: 100%|██████████| 1/1 [00:00<00:00, 578.52ba/s]\n",
      "Uploading the dataset shards: 100%|██████████| 1/1 [00:03<00:00,  3.81s/it]\n"
     ]
    },
    {
     "data": {
      "text/plain": [
       "CommitInfo(commit_url='https://huggingface.co/datasets/Tarakeshwaran/Whisper-train-data/commit/dcc9c3c2e9840103cd67d8f127e836227f84a49d', commit_message='Upload dataset', commit_description='', oid='dcc9c3c2e9840103cd67d8f127e836227f84a49d', pr_url=None, repo_url=RepoUrl('https://huggingface.co/datasets/Tarakeshwaran/Whisper-train-data', endpoint='https://huggingface.co', repo_type='dataset', repo_id='Tarakeshwaran/Whisper-train-data'), pr_revision=None, pr_num=None)"
      ]
     },
     "execution_count": 16,
     "metadata": {},
     "output_type": "execute_result"
    }
   ],
   "source": [
    "from huggingface_hub import HfApi\n",
    "from datasets import DatasetDict\n",
    "\n",
    "# Define the splits\n",
    "train_dataset = Dataset.from_pandas(train_df).cast_column(\"audio\", Audio())\n",
    "test_dataset = Dataset.from_pandas(test_df).cast_column(\"audio\", Audio())\n",
    "\n",
    "# Create a DatasetDict for multiple splits\n",
    "dataset_dict = DatasetDict({\"train\": train_dataset, \"test\": test_dataset})\n",
    "\n",
    "# Push the dataset to the Hugging Face Hub\n",
    "dataset_dict.push_to_hub(\"Tarakeshwaran/Whisper-Train-data\")"
   ]
  },
  {
   "cell_type": "code",
   "execution_count": null,
   "metadata": {},
   "outputs": [],
   "source": []
  }
 ],
 "metadata": {
  "kernelspec": {
   "display_name": "venv",
   "language": "python",
   "name": "python3"
  },
  "language_info": {
   "codemirror_mode": {
    "name": "ipython",
    "version": 3
   },
   "file_extension": ".py",
   "mimetype": "text/x-python",
   "name": "python",
   "nbconvert_exporter": "python",
   "pygments_lexer": "ipython3",
   "version": "3.9.13"
  }
 },
 "nbformat": 4,
 "nbformat_minor": 2
}
